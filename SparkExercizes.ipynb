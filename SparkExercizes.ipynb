{
  "nbformat": 4,
  "nbformat_minor": 0,
  "metadata": {
    "colab": {
      "name": "SparkExercizes.ipynb",
      "provenance": [],
      "collapsed_sections": [],
      "authorship_tag": "ABX9TyM2XFf63E4QQzXVuqQZi9J4",
      "include_colab_link": true
    },
    "kernelspec": {
      "name": "python3",
      "display_name": "Python 3"
    },
    "language_info": {
      "name": "python"
    }
  },
  "cells": [
    {
      "cell_type": "markdown",
      "metadata": {
        "id": "view-in-github",
        "colab_type": "text"
      },
      "source": [
        "<a href=\"https://colab.research.google.com/github/moosemaniam/IISCDeepLearning/blob/main/SparkExercizes.ipynb\" target=\"_parent\"><img src=\"https://colab.research.google.com/assets/colab-badge.svg\" alt=\"Open In Colab\"/></a>"
      ]
    },
    {
      "cell_type": "markdown",
      "metadata": {
        "id": "o5mjQGFZRQy-"
      },
      "source": [
        "Spark exercizes for test"
      ]
    },
    {
      "cell_type": "code",
      "metadata": {
        "colab": {
          "base_uri": "https://localhost:8080/"
        },
        "id": "xEaL-NU3TCxe",
        "outputId": "9c50b552-6f63-4e80-94d9-af6b4ecc691e"
      },
      "source": [
        "!pip -q install pyspark"
      ],
      "execution_count": null,
      "outputs": [
        {
          "output_type": "stream",
          "text": [
            "\u001b[K     |████████████████████████████████| 212.4 MB 67 kB/s \n",
            "\u001b[K     |████████████████████████████████| 198 kB 44.1 MB/s \n",
            "\u001b[?25h  Building wheel for pyspark (setup.py) ... \u001b[?25l\u001b[?25hdone\n"
          ],
          "name": "stdout"
        }
      ]
    },
    {
      "cell_type": "code",
      "metadata": {
        "id": "oKGKCp3sRP4J"
      },
      "source": [
        "#Initiate\n",
        "# Start spark session\n",
        "from pyspark.sql import SparkSession\n",
        "from pyspark.sql.functions import col, udf  # User Defined Functions\n",
        "from pyspark.sql.types import StringType\n",
        "from operator import add\n",
        "spark = SparkSession.builder.appName('Spark_RDD').getOrCreate()\n",
        "sc = spark.sparkContext"
      ],
      "execution_count": null,
      "outputs": []
    },
    {
      "cell_type": "markdown",
      "metadata": {
        "id": "bE5X71dRR-AE"
      },
      "source": [
        "Problem :You are given a CSV file of the form \"studentID, courseID, marks\" for students\n",
        "in a university. Provide the Spark transformations and actions using RDDs to (i)\n",
        "calculate the average marks per course, (ii) average marks per student and (iii)\n",
        "the number of students in the university."
      ]
    },
    {
      "cell_type": "code",
      "metadata": {
        "id": "cBAbMTKoR-58"
      },
      "source": [
        "dataRDD  = sc.parallelize([ (\"ram\", \"Maths\", 83), (\"ram\", \"Physics\", 74), (\"ram\", \"Chemistry\", 91), (\"ram\", \"Biology\", 82),\n",
        "\n",
        "(\"suresh\", \"Maths\", 69), (\"suresh\", \"Physics\", 62), (\"suresh\", \"Chemistry\", 97), (\"suresh\", \"Biology\", 80),\n",
        "\n",
        "(\"ramesh\", \"Maths\", 78), (\"ramesh\", \"Physics\", 73), (\"ramesh\", \"Chemistry\", 68), (\"ramesh\", \"Biology\", 87),\n",
        "\n",
        "(\"john\", \"Maths\", 87), (\"john\", \"Physics\", 93), (\"john\", \"Chemistry\", 91), (\"john\", \"Biology\", 74),\n",
        "\n",
        "(\"sita\", \"Maths\", 56), (\"sita\", \"Physics\", 65), (\"sita\", \"Chemistry\", 71), (\"sita\", \"Biology\", 68),\n",
        "\n",
        "(\"harsha\", \"Maths\", 86), (\"harsha\", \"Physics\", 62), (\"harsha\", \"Chemistry\", 75), (\"harsha\", \"Biology\", 83),\n",
        "\n",
        "(\"Anu\", \"Maths\", 63), (\"Anu\", \"Physics\", 69), (\"Anu\", \"Chemistry\", 64), (\"Anu\", \"Biology\", 60)], 3)"
      ],
      "execution_count": null,
      "outputs": []
    },
    {
      "cell_type": "code",
      "metadata": {
        "colab": {
          "base_uri": "https://localhost:8080/"
        },
        "id": "uvdZ_qnUTW_3",
        "outputId": "b234cc1e-de08-4a9d-97f4-a6596ca39e90"
      },
      "source": [
        "#Average marks per course \n",
        "def func(tpl):\n",
        "  return((tpl[1],tpl[2]))\n",
        "#Create RDD pair for subject,marks\n",
        "subjectRDD = dataRDD.map(func)\n",
        "\n",
        "aTuple=(0,0)\n",
        "sumRDD = subjectRDD.aggregateByKey(aTuple, lambda a,b: (a[0] + b,    a[1] + 1),\n",
        "                                       lambda a,b: (a[0] + b[0], a[1] + b[1]))\n",
        "finalResult = sumRDD.mapValues(lambda v: v[0]/v[1])\n",
        "finalResult.collect()\n"
      ],
      "execution_count": null,
      "outputs": [
        {
          "output_type": "execute_result",
          "data": {
            "text/plain": [
              "[('Physics', 71.14285714285714),\n",
              " ('Biology', 76.28571428571429),\n",
              " ('Maths', 74.57142857142857),\n",
              " ('Chemistry', 79.57142857142857)]"
            ]
          },
          "metadata": {
            "tags": []
          },
          "execution_count": 21
        }
      ]
    },
    {
      "cell_type": "code",
      "metadata": {
        "colab": {
          "base_uri": "https://localhost:8080/"
        },
        "id": "mh71uW2UTj_H",
        "outputId": "39306314-3d7f-46c4-a758-356ca9230f28"
      },
      "source": [
        "def func(tpl):\n",
        "  return((tpl[0],tpl[2]))\n",
        "#Create RDD pair for person,marks\n",
        "marksRDD = dataRDD.map(func)\n",
        "\n",
        "aTuple=(0,0)\n",
        "sumRDD = marksRDD.aggregateByKey(aTuple, lambda a,b: (a[0] + b,    a[1] + 1),\n",
        "                                       lambda a,b: (a[0] + b[0], a[1] + b[1]))\n",
        "finalResult = sumRDD.mapValues(lambda v: v[0]/v[1])\n",
        "finalResult.collect()"
      ],
      "execution_count": null,
      "outputs": [
        {
          "output_type": "execute_result",
          "data": {
            "text/plain": [
              "[('suresh', 77.0),\n",
              " ('ram', 82.5),\n",
              " ('ramesh', 76.5),\n",
              " ('Anu', 64.0),\n",
              " ('john', 86.25),\n",
              " ('sita', 65.0),\n",
              " ('harsha', 76.5)]"
            ]
          },
          "metadata": {
            "tags": []
          },
          "execution_count": 23
        }
      ]
    },
    {
      "cell_type": "code",
      "metadata": {
        "colab": {
          "base_uri": "https://localhost:8080/"
        },
        "id": "HMPeAWMFXORR",
        "outputId": "6bb6a794-d13b-48a8-d1d6-33807f8b05f7"
      },
      "source": [
        "def func(tpl):\n",
        "  return((tpl[0]))\n",
        "personRDD = dataRDD.map(func).distinct()\n",
        "personRDD.count()\n",
        "\n",
        "\n",
        "\n",
        "\n"
      ],
      "execution_count": null,
      "outputs": [
        {
          "output_type": "execute_result",
          "data": {
            "text/plain": [
              "7"
            ]
          },
          "metadata": {
            "tags": []
          },
          "execution_count": 30
        }
      ]
    },
    {
      "cell_type": "code",
      "metadata": {
        "id": "7-GG6Q2yYiM6"
      },
      "source": [
        "\n",
        "\n"
      ],
      "execution_count": null,
      "outputs": []
    }
  ]
}