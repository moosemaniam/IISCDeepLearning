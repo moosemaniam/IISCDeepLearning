{
  "nbformat": 4,
  "nbformat_minor": 0,
  "metadata": {
    "kernelspec": {
      "display_name": "Python 3",
      "language": "python",
      "name": "python3"
    },
    "language_info": {
      "codemirror_mode": {
        "name": "ipython",
        "version": 3
      },
      "file_extension": ".py",
      "mimetype": "text/x-python",
      "name": "python",
      "nbconvert_exporter": "python",
      "pygments_lexer": "ipython3",
      "version": "3.8.5"
    },
    "colab": {
      "name": "M1_AST_08_Scalable_Programming_using_PySpark_A.ipynb",
      "provenance": [],
      "collapsed_sections": [],
      "toc_visible": true,
      "include_colab_link": true
    }
  },
  "cells": [
    {
      "cell_type": "markdown",
      "metadata": {
        "id": "view-in-github",
        "colab_type": "text"
      },
      "source": [
        "<a href=\"https://colab.research.google.com/github/moosemaniam/IISCDeepLearning/blob/main/M1_AST_08_Scalable_Programming_using_PySpark_A.ipynb\" target=\"_parent\"><img src=\"https://colab.research.google.com/assets/colab-badge.svg\" alt=\"Open In Colab\"/></a>"
      ]
    },
    {
      "cell_type": "markdown",
      "metadata": {
        "id": "p4Nwm4FK3wgU"
      },
      "source": [
        "# Advanced Programme in Deep Learning (Foundations and Applications)\n",
        "## A Program by IISc and TalentSprint\n",
        "### Assignment 8: Scalable Programming using PySpark"
      ]
    },
    {
      "cell_type": "markdown",
      "metadata": {
        "id": "dHj34EaN5oa5"
      },
      "source": [
        "## Learning Objectives"
      ]
    },
    {
      "cell_type": "markdown",
      "metadata": {
        "id": "vnSM9v-nhbzv"
      },
      "source": [
        "At the end of the experiment, you will be able to\n",
        "\n",
        "\n",
        "* understand about Big Data, Spark, and PySpark\n",
        "* understand design and architecture of Spark\n",
        "* interact with Spark using python\n",
        "* understand and implement RDD actions and transformations\n",
        "\n",
        "\n",
        "\n",
        "\n"
      ]
    },
    {
      "cell_type": "markdown",
      "metadata": {
        "id": "BNLA8HiKxQhc"
      },
      "source": [
        "### Setup Steps:"
      ]
    },
    {
      "cell_type": "code",
      "metadata": {
        "id": "2YzfoPvJDiTX"
      },
      "source": [
        "#@title Please enter your registration id to start: { run: \"auto\", display-mode: \"form\" }\n",
        "Id = \"\" #@param {type:\"string\"}"
      ],
      "execution_count": null,
      "outputs": []
    },
    {
      "cell_type": "code",
      "metadata": {
        "id": "rEzlYL4CDrmE"
      },
      "source": [
        "#@title Please enter your password (normally your phone number) to continue: { run: \"auto\", display-mode: \"form\" }\n",
        "password = \"\" #@param {type:\"string\"}"
      ],
      "execution_count": null,
      "outputs": []
    },
    {
      "cell_type": "code",
      "metadata": {
        "id": "WBPPuGmBlDIN",
        "cellView": "form"
      },
      "source": [
        "#@title Run this cell to complete the setup for this Notebook\n",
        "from IPython import get_ipython\n",
        "\n",
        "ipython = get_ipython()\n",
        "  \n",
        "notebook= \"M1_AST_08_Scalable_Programming_using_PySpark_A\" #name of the notebook\n",
        "\n",
        "def setup():\n",
        "#  ipython.magic(\"sx pip3 install torch\")  \n",
        "    ipython.magic(\"sx wget https://cdn.iisc.talentsprint.com/CDS/Datasets/ecommerce_customers_.csv\")  \n",
        "    from IPython.display import HTML, display\n",
        "    display(HTML('<script src=\"https://dashboard.talentsprint.com/aiml/record_ip.html?traineeId={0}&recordId={1}\"></script>'.format(getId(),submission_id)))\n",
        "    print(\"Setup completed successfully\")\n",
        "    return\n",
        "\n",
        "def submit_notebook():\n",
        "    ipython.magic(\"notebook -e \"+ notebook + \".ipynb\")\n",
        "    \n",
        "    import requests, json, base64, datetime\n",
        "\n",
        "    url = \"https://dashboard.talentsprint.com/xp/app/save_notebook_attempts\"\n",
        "    if not submission_id:\n",
        "      data = {\"id\" : getId(), \"notebook\" : notebook, \"mobile\" : getPassword()}\n",
        "      r = requests.post(url, data = data)\n",
        "      r = json.loads(r.text)\n",
        "\n",
        "      if r[\"status\"] == \"Success\":\n",
        "          return r[\"record_id\"]\n",
        "      elif \"err\" in r:        \n",
        "        print(r[\"err\"])\n",
        "        return None        \n",
        "      else:\n",
        "        print (\"Something is wrong, the notebook will not be submitted for grading\")\n",
        "        return None\n",
        "    \n",
        "    elif getAnswer1() and getAnswer2() and getComplexity() and getAdditional() and getConcepts() and getComments() and getMentorSupport():\n",
        "      f = open(notebook + \".ipynb\", \"rb\")\n",
        "      file_hash = base64.b64encode(f.read())\n",
        "\n",
        "      data = {\"complexity\" : Complexity, \"additional\" :Additional, \n",
        "              \"concepts\" : Concepts, \"record_id\" : submission_id, \n",
        "              \"answer1\" : Answer1, \"answer2\" : Answer2, \"id\" : Id, \"file_hash\" : file_hash,\n",
        "              \"notebook\" : notebook,\n",
        "              \"feedback_experiments_input\" : Comments,\n",
        "              \"feedback_mentor_support\": Mentor_support}\n",
        "      r = requests.post(url, data = data)\n",
        "      r = json.loads(r.text)\n",
        "      if \"err\" in r:        \n",
        "        print(r[\"err\"])\n",
        "        return None   \n",
        "      else:\n",
        "        print(\"Your submission is successful.\")\n",
        "        print(\"Ref Id:\", submission_id)\n",
        "        print(\"Date of submission: \", r[\"date\"])\n",
        "        print(\"Time of submission: \", r[\"time\"])\n",
        "        print(\"View your submissions: https://dlfa.iisc.talentsprint.com/notebook_submissions\")\n",
        "        #print(\"For any queries/discrepancies, please connect with mentors through the chat icon in LMS dashboard.\")\n",
        "        return submission_id\n",
        "    else: submission_id\n",
        "    \n",
        "\n",
        "def getAdditional():\n",
        "  try:\n",
        "    if not Additional: \n",
        "      raise NameError\n",
        "    else:\n",
        "      return Additional  \n",
        "  except NameError:\n",
        "    print (\"Please answer Additional Question\")\n",
        "    return None\n",
        "\n",
        "def getComplexity():\n",
        "  try:\n",
        "    if not Complexity:\n",
        "      raise NameError\n",
        "    else:\n",
        "      return Complexity\n",
        "  except NameError:\n",
        "    print (\"Please answer Complexity Question\")\n",
        "    return None\n",
        "  \n",
        "def getConcepts():\n",
        "  try:\n",
        "    if not Concepts:\n",
        "      raise NameError\n",
        "    else:\n",
        "      return Concepts\n",
        "  except NameError:\n",
        "    print (\"Please answer Concepts Question\")\n",
        "    return None\n",
        "  \n",
        "  \n",
        "# def getWalkthrough():\n",
        "#   try:\n",
        "#     if not Walkthrough:\n",
        "#       raise NameError\n",
        "#     else:\n",
        "#       return Walkthrough\n",
        "#   except NameError:\n",
        "#     print (\"Please answer Walkthrough Question\")\n",
        "#     return None\n",
        "  \n",
        "def getComments():\n",
        "  try:\n",
        "    if not Comments:\n",
        "      raise NameError\n",
        "    else:\n",
        "      return Comments\n",
        "  except NameError:\n",
        "    print (\"Please answer Comments Question\")\n",
        "    return None\n",
        "  \n",
        "\n",
        "def getMentorSupport():\n",
        "  try:\n",
        "    if not Mentor_support:\n",
        "      raise NameError\n",
        "    else:\n",
        "      return Mentor_support\n",
        "  except NameError:\n",
        "    print (\"Please answer Mentor support Question\")\n",
        "    return None\n",
        "\n",
        "def getAnswer1():\n",
        "  try:\n",
        "    if not Answer1:\n",
        "      raise NameError \n",
        "    else: \n",
        "      return Answer1\n",
        "  except NameError:\n",
        "    print (\"Please answer Question 1\")\n",
        "    return None\n",
        "\n",
        "def getAnswer2():\n",
        "  try:\n",
        "    if not Answer2:\n",
        "      raise NameError \n",
        "    else: \n",
        "      return Answer2\n",
        "  except NameError:\n",
        "    print (\"Please answer Question 2\")\n",
        "    return None\n",
        "  \n",
        "\n",
        "def getId():\n",
        "  try: \n",
        "    return Id if Id else None\n",
        "  except NameError:\n",
        "    return None\n",
        "\n",
        "def getPassword():\n",
        "  try:\n",
        "    return password if password else None\n",
        "  except NameError:\n",
        "    return None\n",
        "\n",
        "submission_id = None\n",
        "### Setup \n",
        "if getPassword() and getId():\n",
        "  submission_id = submit_notebook()\n",
        "  if submission_id:\n",
        "    setup() \n",
        "else:\n",
        "  print (\"Please complete Id and Password cells before running setup\")\n",
        "\n"
      ],
      "execution_count": null,
      "outputs": []
    },
    {
      "cell_type": "markdown",
      "metadata": {
        "id": "SJsC-0V3jrrx"
      },
      "source": [
        "### Introduction to Big Data, Spark, and PySpark"
      ]
    },
    {
      "cell_type": "markdown",
      "metadata": {
        "id": "xH6u3F4CjwmN"
      },
      "source": [
        "**Big Data** : Big Data refers to the large volumes of data generated on a daily basis that is impossible to store and process using traditional methods. It can be structured as well as unstructured data. \n",
        "\n",
        "Big Data helps businesses analyze and get insights from the data to make effective business strategies.\n",
        "\n",
        "Now, Big Data is described using four V's and they are:\n",
        "\n",
        "1. **Volume(Scale of Data)**: Organizations collect data from a variety of sources, including business transactions, IoT devices, smart phones, industrial equipment, videos, social media and many more. In the past, storing it would have been a problem – but cheaper storage on platforms like Hadoop have eased the burden. \n",
        "\n",
        "  **Example**: All the credit/debit card transactions on a day in the world will generate large volumes of data.\n",
        "\n",
        "2. **Velocity(Analysis of Streaming Data)**: Velocity refers to the speed with which data is generated. High velocity data is generated with such a pace that it requires distinct (distributed) processing techniques. \n",
        "\n",
        "  **Example** : Twitter messages , WhatsApp messages, or Facebook posts will generate data with a high velocity.\n",
        "\n",
        "\n",
        "3. **Variety(Different Forms of Data)**: variety is going to mean greater uncertainty about the quality of that data and its availability. Big Data comes from a great variety of sources and generally is one out of three types: structured, semi structured and unstructured data. \n",
        "\n",
        "  **Example** : The data generated by CCTV audio and video files at various locations in a city High will be a high variety data.\n",
        "\n",
        "4. **Veracity(Uncertainty of Data)**: Veracity refers to the quality of the data that is being analyzed. High veracity data has many records that are valuable to analyze and that contribute in a meaningful way to the overall results. Low veracity data, on the other hand, contains a high percentage of meaningless data. Further, the non-valuable in these data sets is referred to as noise. \n",
        "\n",
        "  **Example** : The  data from a medical experiment or trial of a vaccine is an example of a high veracity data.\n",
        "\n",
        "Data that is **high volume**, **high velocity**, **high veracity** and **high variety** must be processed with advanced tools (analytics and algorithms) to reveal meaningful information. Because of these characteristics of the data, the knowledge domain that deals with the storage, processing, and analysis of these data sets has been labeled **Big Data**.\n"
      ]
    },
    {
      "cell_type": "markdown",
      "metadata": {
        "id": "jPazp5VgC6u9"
      },
      "source": [
        "### What is Spark ?"
      ]
    },
    {
      "cell_type": "markdown",
      "metadata": {
        "id": "b-MIetu-hbzy"
      },
      "source": [
        "Spark is a platform for cluster computing that lets you spread data and computations over clusters with multiple nodes (think of each node as a separate computer). Splitting up your data makes it easier to work with very large datasets because each node only works with a small amount of data.\n",
        "\n",
        "As each node works on its own subset of the total data, it also carries out a part of the total calculations required, so that both data processing and computation are performed in parallel over the nodes in the cluster. It is a fact that parallel computation can make certain types of programming tasks much faster.\n"
      ]
    },
    {
      "cell_type": "markdown",
      "metadata": {
        "id": "ycsKjngtMqd3"
      },
      "source": [
        "**Spark : A Distributed Execution Engine**"
      ]
    },
    {
      "cell_type": "markdown",
      "metadata": {
        "id": "CvruCz79NWWW"
      },
      "source": [
        "![image.png](data:image/png;base64,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)"
      ]
    },
    {
      "cell_type": "markdown",
      "metadata": {
        "id": "wLIQF4WeNDma"
      },
      "source": [
        "**Driver**: User program for application,\n",
        "uses Spark Context, local variables\n",
        "Spark Context: Gives access to\n",
        "distributed computing environment.\n",
        "\n",
        "**Worker**: Machines on which actual\n",
        "heavy-lift happens.\n",
        "\n",
        "**Executor**: Spark execution\n",
        "environment in a worker, Process,\n",
        "exclusive to an application.\n",
        "\n",
        "**Task**: Single operation on data and thread."
      ]
    },
    {
      "cell_type": "markdown",
      "metadata": {
        "id": "FLUYa2jkhbzx"
      },
      "source": [
        "**Why do we need Spark?**\n",
        "\n",
        "Spark is one of the latest technologies being used to quickly and easily handle Big Data. Spark is an open-source distributed computing framework that promises a clean and pleasurable experience similar to that of Pandas, while scaling to large data sets via a distributed architecture under the hood. "
      ]
    },
    {
      "cell_type": "markdown",
      "metadata": {
        "id": "1MF0lLv3HUUo"
      },
      "source": [
        "**What is Apache Spark?**\n",
        "\n",
        "Apache Spark is known as a fast, easy to use and general engine for big data processing, with built-in modules for streaming, SQL, machine learning and graph processing. It’s well-known for its speed, ease of use, generality and the ability to run virtually everywhere. And even though Spark is one of the most asked tools for data engineers, also data scientists can benefit from Spark when doing exploratory data analysis, feature extraction, supervised learning and model evaluation.\n",
        "\n",
        "Apache Spark is a powerful cluster computing engine, therefore it is designed for fast computation of big data. Spark runs on Memory (RAM), and that makes the processing much faster than on Disk. It includes \"MLlib\" library to perform Machine Learning tasks using the Spark framework."
      ]
    },
    {
      "cell_type": "markdown",
      "metadata": {
        "id": "4dwQCqpwhbzy"
      },
      "source": [
        "### What is PySpark?"
      ]
    },
    {
      "cell_type": "markdown",
      "metadata": {
        "id": "GYVoE0nThbzz"
      },
      "source": [
        "PySpark is an interface for Apache Spark in Python. It not only allows you to write Spark applications using Python APIs, but also provides the PySpark shell for interactively analyzing your data in a distributed environment. PySpark supports most of Spark’s features such as Spark SQL, DataFrame, Streaming, MLlib (Machine Learning) and Spark Core.\n",
        "\n",
        "<figure>\n",
        "<img src='https://cdn.iisc.talentsprint.com/CDS/Images/pyspark_components.png' width = 700 px/>\n",
        "</figure>\n",
        "\n",
        "**Spark SQL and DataFrame**\n",
        "\n",
        "Spark SQL is a Spark module for structured data processing. It provides a programming abstraction called DataFrame and can also act as distributed SQL query engine.\n",
        "\n",
        "**Streaming**\n",
        "\n",
        "Running on top of Spark, the streaming feature in Apache Spark enables powerful interactive and analytical applications across both streaming and historical data, while inheriting Spark’s ease of use and fault tolerance characteristics.\n",
        "\n",
        "**MLlib**\n",
        "\n",
        "Built on top of Spark, MLlib is a scalable machine learning library that provides a uniform set of high-level APIs that help users create and tune practical machine learning pipelines.\n",
        "\n",
        "**Spark Core**\n",
        "\n",
        "Spark Core is the underlying general execution engine for the Spark platform on top of which all other functionality is built. It provides an RDD (Resilient Distributed Dataset) and in-memory computing capabilities."
      ]
    },
    {
      "cell_type": "markdown",
      "metadata": {
        "id": "tuVyxDSAhbzz"
      },
      "source": [
        "#### Install PySpark"
      ]
    },
    {
      "cell_type": "code",
      "metadata": {
        "id": "dpbyJFSZhbzz"
      },
      "source": [
        "!pip install pyspark"
      ],
      "execution_count": null,
      "outputs": []
    },
    {
      "cell_type": "markdown",
      "metadata": {
        "id": "1-JqQmojhbz0"
      },
      "source": [
        "#### Start a Spark Session"
      ]
    },
    {
      "cell_type": "markdown",
      "metadata": {
        "id": "Vju8S9ZWhbz0"
      },
      "source": [
        "Spark session is a combined entry point of a Spark application, which came into implementation from Spark 2.0. It provides a way to interact with various spark’s functionality with a lesser number of constructs. Instead of having spark context, hive context, SQL context, now everything is encapsulated in a Spark session."
      ]
    },
    {
      "cell_type": "code",
      "metadata": {
        "id": "bdlUo9HFhbz0"
      },
      "source": [
        "from pyspark.sql import SparkSession\n",
        "# Start spark session\n",
        "spark = SparkSession.builder.appName('PySpark').getOrCreate()\n",
        "spark"
      ],
      "execution_count": null,
      "outputs": []
    },
    {
      "cell_type": "markdown",
      "metadata": {
        "id": "DvSiD2j6ayo3"
      },
      "source": [
        "### Spark RDD\n",
        "\n",
        "**Resilient Distributed Datasets:**\n",
        "\n",
        "**Resilient:**    because RDDs are immutable (can’t be modified once created)                        and fault tolerant.\n",
        "\n",
        "**Distributed:**  because it is distributed across clusters\n",
        "\n",
        "**Dataset:**      because it holds data.\n",
        "\n",
        "**Why RDD?**\n",
        "\n",
        "* Apache Spark lets you treat your input files almost like any other variable, which you cannot do in Hadoop MapReduce. \n",
        "* RDDs are automatically distributed across the network by means of Partitions.\n",
        "\n",
        "RDDs are divided into smaller chunks called Partitions, and when you execute some action, a task is launched per partition. This means, the more the number of partitions, the more will be the parallelism. \n",
        "\n",
        "Spark automatically decides the number of partitions that an RDD has to be divided into, but you can also specify the number of partitions when creating an RDD. These partitions of an RDD are distributed across all the nodes in the network.\n",
        "\n",
        "**Difference between Dataframe and RDD (Resilient Distributed Datasets):**\n",
        "\n",
        "**Dataframe:**\n",
        "* Automatically finds out the schema of the dataset.\n",
        "* Performs aggregation faster than RDDs, as it provides an easy API to perform aggregation operations.\n",
        "\n",
        "**RDD:**\n",
        "* We need to define the schema manually.\n",
        "* RDD is slower than Dataframes to perform simple operations like grouping the data.\n"
      ]
    },
    {
      "cell_type": "markdown",
      "metadata": {
        "id": "t-PfJvpLuTFa"
      },
      "source": [
        "**Creating an RDD**\n",
        "\n",
        "**There are three ways to create an RDD in Spark:**\n",
        "1. Parallelizing already existing collection in the driver program.\n",
        " \n",
        "  The key point to note in a parallelized collection is the number of partitions the dataset is divided into. Spark will run one task for each partition of the cluster. We require two to four partitions for each CPU in the cluster. Spark sets the number of partition based on our cluster. \n",
        "\n",
        "2. Referencing a dataset in an external storage system (e.g. HDFS, Hbase, shared file system).\n",
        "  \n",
        "  In Spark, the distributed dataset can be formed from any data source supported by Hadoop, including the local file system, HDFS, Cassandra, HBase etc. In this, the data is loaded from the external dataset.\n",
        "\n",
        "  * csv (String path): It loads a CSV file and returns the result as a Dataset.\n",
        "\n",
        "  * json (String path): It loads a JSON file (one object per line) and returns the result as a Dataset\n",
        "\n",
        "  * textFile (String path) It loads text files and returns a Dataset of String.\n",
        "\n",
        "3. Creating RDD from already existing RDDs.\n",
        "\n",
        "  Transformation mutates one RDD into another RDD, this transformation is the way to create an RDD from an already existing RDD. This creates a difference between Apache Spark and Hadoop MapReduce. "
      ]
    },
    {
      "cell_type": "markdown",
      "metadata": {
        "id": "T0zutSoUD0cs"
      },
      "source": [
        "**Actions/Transformations**\n",
        "\n",
        "There are two types of operations that you can perform on an RDD- \n",
        "* Transformations \n",
        "* Actions. \n",
        "\n",
        "**Transformation** applies some function on an RDD and creates a new RDD, it does not modify the RDD that you apply the function on. Also, the new RDD keeps a pointer to its parent RDD.\n",
        "\n",
        "When you call a transformation, Spark does not execute it immediately, instead it creates a lineage. A lineage keeps track of what all transformations have to be applied on that RDD, including from where it has to read the data.\n",
        "\n",
        "\n",
        "**Action** is used to either save the result to some location or to display it. You can also print the RDD lineage information by using the command: \n",
        "\n",
        "\"filtered.toDebugString\" -> (*filtered* is the RDD here)."
      ]
    },
    {
      "cell_type": "markdown",
      "metadata": {
        "id": "9Ja7Mz2TMhIR"
      },
      "source": [
        "![img](https://cdn.iisc.talentsprint.com/CDS/Images/Pyspark_RDD.JPG)\n",
        "\n",
        "ETL (Extract, Transform, and Load) is the procedure of migrating data from one system to another.\n",
        "* Data **extraction** is the process of retrieving data out of homogeneous or heterogeneous sources for further data processing and data storage.\n",
        "* During data **transformation**, the data is cleaned and incorrect or inaccurate records are modified or deleted.\n",
        "* Finally, the processed data is **loaded** (or stored) into a target system such as a data warehouse or NoSQL database or RDBMS.\n",
        "\n",
        "Data engineers use Spark because it provides a simple way to parallelize computations and hides all the complexity of distribution and fault tolerance. This leaves them free to focus on using high-level DataFrame-based APIs and domain-specific language queries to do ETL, reading and combining data from multiple sources.\n",
        "\n",
        "Here we will consider tabular data to do ETL operations. Starting from data extraction, we will perform various transformations and try to gain some insights from it and then load it to a NoSQL database or store it in different file formats."
      ]
    },
    {
      "cell_type": "markdown",
      "metadata": {
        "id": "Q7gkRPAmU2b0"
      },
      "source": [
        "**sparkContext**: It is the main entry point for Spark functionality. A SparkContext represents the connection to a Spark cluster and can be used to create RDD's. It establishes the communication with the clusters and resource managers in order to coordinate and execute tasks."
      ]
    },
    {
      "cell_type": "code",
      "metadata": {
        "id": "vmK8WpJ3eB-U"
      },
      "source": [
        "# CODE HERE"
      ],
      "execution_count": null,
      "outputs": []
    },
    {
      "cell_type": "markdown",
      "metadata": {
        "id": "5Kt4YX3C3dGT"
      },
      "source": [
        "### Spark Python Transformations"
      ]
    },
    {
      "cell_type": "markdown",
      "metadata": {
        "id": "Ewfajyt9WLO6"
      },
      "source": [
        "#### Create RDD's and use the transformation functions on the RDD.  "
      ]
    },
    {
      "cell_type": "markdown",
      "metadata": {
        "id": "LuBu_zaiYWX-"
      },
      "source": [
        "**map()** - A map transformation is useful when we need to transform an RDD by applying a function to each element. "
      ]
    },
    {
      "cell_type": "code",
      "metadata": {
        "id": "WuG2CC43W5Ze"
      },
      "source": [
        "# CODE HERE"
      ],
      "execution_count": null,
      "outputs": []
    },
    {
      "cell_type": "markdown",
      "metadata": {
        "id": "-fd7VX3MXNBW"
      },
      "source": [
        "In the above cell, we have to just perform a transformation and that is why we will not see any output. \n",
        "\n",
        "Further, let us perform action on the transformation that we applied and observe the output."
      ]
    },
    {
      "cell_type": "code",
      "metadata": {
        "id": "6vJJS0NS_o8y"
      },
      "source": [
        "# CODE HERE"
      ],
      "execution_count": null,
      "outputs": []
    },
    {
      "cell_type": "markdown",
      "metadata": {
        "id": "rRmlweKeDvjf"
      },
      "source": [
        "**take()** - Take the first num elements of the RDD.\n",
        "\n",
        "It works by first scanning one partition, and use the results from that partition to estimate the number of additional partitions needed to satisfy the limit"
      ]
    },
    {
      "cell_type": "code",
      "metadata": {
        "id": "RGskOAX2_s0x"
      },
      "source": [
        "# CODE HERE"
      ],
      "execution_count": null,
      "outputs": []
    },
    {
      "cell_type": "markdown",
      "metadata": {
        "id": "h3fEehJeEguG"
      },
      "source": [
        "**flatMap()** - The flatMap transformation will return a new RDD by first applying a function to all elements of this RDD, and then flattening the results. This is the main difference between the flatMap and *map transformations.*"
      ]
    },
    {
      "cell_type": "code",
      "metadata": {
        "id": "JAelIgUTf3Sy"
      },
      "source": [
        "# CODE HERE"
      ],
      "execution_count": null,
      "outputs": []
    },
    {
      "cell_type": "markdown",
      "metadata": {
        "id": "tJLRChBQxnmG"
      },
      "source": [
        "Compare the same function using map()"
      ]
    },
    {
      "cell_type": "code",
      "metadata": {
        "id": "sT3DZ6VRVwlp"
      },
      "source": [
        "# CODE HERE"
      ],
      "execution_count": null,
      "outputs": []
    },
    {
      "cell_type": "markdown",
      "metadata": {
        "id": "WihTRM55aQzK"
      },
      "source": [
        "**filter()** - The filter transformation returns a new dataset formed by selecting  those elements of the source on which function returns true."
      ]
    },
    {
      "cell_type": "code",
      "metadata": {
        "id": "fgypZMSQGyR_"
      },
      "source": [
        "# CODE HERE"
      ],
      "execution_count": null,
      "outputs": []
    },
    {
      "cell_type": "markdown",
      "metadata": {
        "id": "-FV3bYIKJi31"
      },
      "source": [
        "**groupByKey()** - We can apply the “groupByKey” transformations on (key,val) pair RDD. The “groupByKey” will group the values for each key in the original RDD. It will create a new pair, where the original key corresponds to this collected group of values."
      ]
    },
    {
      "cell_type": "code",
      "metadata": {
        "id": "uyh3Z6mDOMbM"
      },
      "source": [
        "# CODE HERE"
      ],
      "execution_count": null,
      "outputs": []
    },
    {
      "cell_type": "markdown",
      "metadata": {
        "id": "MjbYWjBCLfUn"
      },
      "source": [
        "**reduceByKey()** - Merge the values for each key using an associative reduce function."
      ]
    },
    {
      "cell_type": "code",
      "metadata": {
        "id": "Z_kSwLv6OmzV"
      },
      "source": [
        "# CODE HERE"
      ],
      "execution_count": null,
      "outputs": []
    },
    {
      "cell_type": "markdown",
      "metadata": {
        "id": "UV-_pmJVLfl5"
      },
      "source": [
        "**mapPartitions()** - Is similar to map, but runs separately on each partition (block) of the RDD"
      ]
    },
    {
      "cell_type": "code",
      "metadata": {
        "id": "rclESZfdRbMM"
      },
      "source": [
        "# CODE HERE"
      ],
      "execution_count": null,
      "outputs": []
    },
    {
      "cell_type": "markdown",
      "metadata": {
        "id": "B-SUV2VcJjMJ"
      },
      "source": [
        "**mapPartitionsWithIndex()** - Return a new RDD by applying a function to each partition of this RDD, while tracking the index of the original partition."
      ]
    },
    {
      "cell_type": "code",
      "metadata": {
        "id": "NvCG_cI5DhNu"
      },
      "source": [
        "# CODE HERE"
      ],
      "execution_count": null,
      "outputs": []
    },
    {
      "cell_type": "markdown",
      "metadata": {
        "id": "82fgwxs8kzy5"
      },
      "source": [
        "### Spark Python Actions"
      ]
    },
    {
      "cell_type": "markdown",
      "metadata": {
        "id": "qaYgbjhklcT0"
      },
      "source": [
        "**Create an RDD to explain \"RDD actions with Examples\"**"
      ]
    },
    {
      "cell_type": "code",
      "metadata": {
        "id": "seJ35vrGleKN"
      },
      "source": [
        "# CODE HERE"
      ],
      "execution_count": null,
      "outputs": []
    },
    {
      "cell_type": "markdown",
      "metadata": {
        "id": "QP2Ke8W9XYKs"
      },
      "source": [
        "After creating RDDs, we use these RDD's when it is necessary to demonstrate the RDD actions."
      ]
    },
    {
      "cell_type": "markdown",
      "metadata": {
        "id": "Bjcr2K9fk0LT"
      },
      "source": [
        "**first()** – Return the first element in the dataset."
      ]
    },
    {
      "cell_type": "code",
      "metadata": {
        "id": "kR-hsPBqnds7"
      },
      "source": [
        "# CODE HERE"
      ],
      "execution_count": null,
      "outputs": []
    },
    {
      "cell_type": "markdown",
      "metadata": {
        "id": "CFIF21pnk0tc"
      },
      "source": [
        "**take()** – Return the first num elements of the dataset."
      ]
    },
    {
      "cell_type": "code",
      "metadata": {
        "id": "s8iyLrZ0nopK"
      },
      "source": [
        "# CODE HERE"
      ],
      "execution_count": null,
      "outputs": []
    },
    {
      "cell_type": "markdown",
      "metadata": {
        "id": "a5dG25M-k02C"
      },
      "source": [
        "**takeSample()** – Return the subset of the dataset in an Array."
      ]
    },
    {
      "cell_type": "code",
      "metadata": {
        "id": "J58_ENwkn15A"
      },
      "source": [
        "# CODE HERE"
      ],
      "execution_count": null,
      "outputs": []
    },
    {
      "cell_type": "markdown",
      "metadata": {
        "id": "XddOZ8LRk08Y"
      },
      "source": [
        "**takeOrdered()** – Return the first num (smallest) elements from the dataset and this is the opposite of the take() action. "
      ]
    },
    {
      "cell_type": "code",
      "metadata": {
        "id": "nptmLS_qoSKt"
      },
      "source": [
        "# CODE HERE"
      ],
      "execution_count": null,
      "outputs": []
    },
    {
      "cell_type": "markdown",
      "metadata": {
        "id": "-chsPGWPk1EQ"
      },
      "source": [
        "**collect()** - Return the complete dataset as an Array."
      ]
    },
    {
      "cell_type": "code",
      "metadata": {
        "id": "bMDnTnA0pNHG"
      },
      "source": [
        "# CODE HERE"
      ],
      "execution_count": null,
      "outputs": []
    },
    {
      "cell_type": "markdown",
      "metadata": {
        "id": "r1How8QYk1NK"
      },
      "source": [
        "**count()** – Return the count of elements in the dataset."
      ]
    },
    {
      "cell_type": "code",
      "metadata": {
        "id": "-5YNtF_RpW6y"
      },
      "source": [
        "# CODE HERE"
      ],
      "execution_count": null,
      "outputs": []
    },
    {
      "cell_type": "markdown",
      "metadata": {
        "id": "sNSjv_LCpcAU"
      },
      "source": [
        "**countByValue()** – Return Map[T,Long] key representing each unique value in dataset and value represents count each value present."
      ]
    },
    {
      "cell_type": "code",
      "metadata": {
        "id": "ij3GMKfbpcLs"
      },
      "source": [
        "# CODE HERE"
      ],
      "execution_count": null,
      "outputs": []
    },
    {
      "cell_type": "markdown",
      "metadata": {
        "id": "qNHqoneIplsk"
      },
      "source": [
        "**reduce()** – Reduces the elements of the dataset using the specified binary operator."
      ]
    },
    {
      "cell_type": "code",
      "metadata": {
        "id": "McRegvjapl0T"
      },
      "source": [
        "# CODE HERE"
      ],
      "execution_count": null,
      "outputs": []
    },
    {
      "cell_type": "markdown",
      "metadata": {
        "id": "yklH98ELqV_q"
      },
      "source": [
        "**top()** – Return top n elements from the dataset."
      ]
    },
    {
      "cell_type": "code",
      "metadata": {
        "id": "Pj1f2tsCqWWj"
      },
      "source": [
        "# CODE HERE"
      ],
      "execution_count": null,
      "outputs": []
    },
    {
      "cell_type": "markdown",
      "metadata": {
        "id": "OONqU-CTtEkZ"
      },
      "source": [
        "**fold()** - Aggregate the elements of each partition, and then the results for all the partitions, using a given associative function and a neutral \"zero value.\""
      ]
    },
    {
      "cell_type": "code",
      "metadata": {
        "id": "euxrIYOYtFEu"
      },
      "source": [
        "# CODE HERE"
      ],
      "execution_count": null,
      "outputs": []
    },
    {
      "cell_type": "markdown",
      "metadata": {
        "id": "khV8HhGc0lhx"
      },
      "source": [
        "**foldByKey()** -  is quite similar to fold(), both use a zero value of the same type of the data in our RDD and combination function."
      ]
    },
    {
      "cell_type": "code",
      "metadata": {
        "id": "4aGQdKuM0L9n"
      },
      "source": [
        "# CODE HERE"
      ],
      "execution_count": null,
      "outputs": []
    },
    {
      "cell_type": "markdown",
      "metadata": {
        "id": "ehIGu2bG0-kc"
      },
      "source": [
        "**reduceByKey()** - Merge the values for each key using an associative reduce function."
      ]
    },
    {
      "cell_type": "code",
      "metadata": {
        "id": "-PXKBSyi0-zi"
      },
      "source": [
        "# CODE HERE"
      ],
      "execution_count": null,
      "outputs": []
    },
    {
      "cell_type": "markdown",
      "metadata": {
        "id": "-6S5yGzv13Ck"
      },
      "source": [
        "**combineByKey()** - Generic function to combine the elements for each key using a custom set of aggregation functions."
      ]
    },
    {
      "cell_type": "code",
      "metadata": {
        "id": "YSpVQHCL13Ls"
      },
      "source": [
        "# CODE HERE"
      ],
      "execution_count": null,
      "outputs": []
    },
    {
      "cell_type": "markdown",
      "metadata": {
        "id": "m_WIYqzvLdEf"
      },
      "source": [
        "### Please answer the questions below to complete the experiment:\n",
        "\n",
        "\n"
      ]
    },
    {
      "cell_type": "code",
      "metadata": {
        "id": "kmvdJ4aNmGjR"
      },
      "source": [
        "#@title Q.1. What is True about PySpark SparkContext? { run: \"auto\", form-width: \"500px\", display-mode: \"form\" }\n",
        "Answer1 = \"\" #@param [\"\",\"SparkContext uses Py4J in order to launch a JVM\", \"It does not creates a JavaSparkContext\", \"It connects to spark cluster to create new SparkContext object\", \"Both A and C\"]\n"
      ],
      "execution_count": null,
      "outputs": []
    },
    {
      "cell_type": "markdown",
      "metadata": {
        "id": "OssiuW2UoK10"
      },
      "source": [
        "####Details on Spark\n",
        "1.  Spark processes data in batches as well as in real-time\n",
        "2.  Spark stores data in the RAM i.e. in-memory. So, it is easier to retrieve it\n",
        "3.  Spark provides caching and in-memory data storage\n",
        "4.  Spark neither processes data in batches nor in real-time"
      ]
    },
    {
      "cell_type": "code",
      "metadata": {
        "id": "UX24XAeIJ6Nf"
      },
      "source": [
        "#@title Q.2. Consider the above four points and select the correct option that best answers how is Apache Spark different from MapReduce? { run: \"auto\", form-width: \"500px\", display-mode: \"form\" }\n",
        "Answer2 = \"\" #@param [\"\",\"1 Only\", \"4 Only\", \"1, 2 and 3\", \"2 and 3 only\"]\n"
      ],
      "execution_count": null,
      "outputs": []
    },
    {
      "cell_type": "code",
      "metadata": {
        "id": "NMzKSbLIgFzQ"
      },
      "source": [
        "#@title How was the experiment? { run: \"auto\", form-width: \"500px\", display-mode: \"form\" }\n",
        "Complexity = \"\" #@param [\"\",\"Too Simple, I am wasting time\", \"Good, But Not Challenging for me\", \"Good and Challenging for me\", \"Was Tough, but I did it\", \"Too Difficult for me\"]\n"
      ],
      "execution_count": null,
      "outputs": []
    },
    {
      "cell_type": "code",
      "metadata": {
        "id": "DjcH1VWSFI2l"
      },
      "source": [
        "#@title If it was too easy, what more would you have liked to be added? If it was very difficult, what would you have liked to have been removed? { run: \"auto\", display-mode: \"form\" }\n",
        "Additional = \"\" #@param {type:\"string\"}\n"
      ],
      "execution_count": null,
      "outputs": []
    },
    {
      "cell_type": "code",
      "metadata": {
        "id": "4VBk_4VTAxCM"
      },
      "source": [
        "#@title Can you identify the concepts from the lecture which this experiment covered? { run: \"auto\", vertical-output: true, display-mode: \"form\" }\n",
        "Concepts = \"\" #@param [\"\",\"Yes\", \"No\"]\n"
      ],
      "execution_count": null,
      "outputs": []
    },
    {
      "cell_type": "code",
      "metadata": {
        "id": "XH91cL1JWH7m"
      },
      "source": [
        "#@title  Text and image description/explanation and code comments within the experiment: { run: \"auto\", vertical-output: true, display-mode: \"form\" }\n",
        "Comments = \"\" #@param [\"\",\"Very Useful\", \"Somewhat Useful\", \"Not Useful\", \"Didn't use\"]\n"
      ],
      "execution_count": null,
      "outputs": []
    },
    {
      "cell_type": "code",
      "metadata": {
        "id": "z8xLqj7VWIKW"
      },
      "source": [
        "#@title Mentor Support: { run: \"auto\", vertical-output: true, display-mode: \"form\" }\n",
        "Mentor_support = \"\" #@param [\"\",\"Very Useful\", \"Somewhat Useful\", \"Not Useful\", \"Didn't use\"]\n"
      ],
      "execution_count": null,
      "outputs": []
    },
    {
      "cell_type": "code",
      "metadata": {
        "id": "FzAZHt1zw-Y-",
        "cellView": "form"
      },
      "source": [
        "#@title Run this cell to submit your notebook for grading { vertical-output: true }\n",
        "try:\n",
        "  if submission_id:\n",
        "      return_id = submit_notebook()\n",
        "      if return_id : submission_id = return_id\n",
        "  else:\n",
        "      print(\"Please complete the setup first.\")\n",
        "except NameError:\n",
        "  print (\"Please complete the setup first.\")"
      ],
      "execution_count": null,
      "outputs": []
    }
  ]
}